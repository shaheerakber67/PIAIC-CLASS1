{
 "cells": [
  {
   "cell_type": "code",
   "execution_count": 1,
   "metadata": {},
   "outputs": [
    {
     "name": "stdout",
     "output_type": "stream",
     "text": [
      "Hello World\n"
     ]
    }
   ],
   "source": [
    "print(\"Hello World\")"
   ]
  },
  {
   "cell_type": "code",
   "execution_count": 2,
   "metadata": {},
   "outputs": [
    {
     "name": "stdout",
     "output_type": "stream",
     "text": [
      "70\n"
     ]
    }
   ],
   "source": [
    "a=20\n",
    "b=50\n",
    "sum=a+b\n",
    "\n",
    "print(sum)"
   ]
  },
  {
   "cell_type": "code",
   "execution_count": 3,
   "metadata": {},
   "outputs": [
    {
     "name": "stdout",
     "output_type": "stream",
     "text": [
      "Name : Shaheer Akber\n",
      "Father's Name : Muhammad Akber\n",
      "Contact : 03242744870\n",
      "Course : PIAIC AI\n"
     ]
    }
   ],
   "source": [
    "print(\"Name : Shaheer Akber\")\n",
    "print(\"Father's Name : Muhammad Akber\")\n",
    "print(\"Contact : 03242744870\")\n",
    "print(\"Course : PIAIC AI\")\n",
    "\n"
   ]
  },
  {
   "cell_type": "code",
   "execution_count": 4,
   "metadata": {},
   "outputs": [
    {
     "name": "stdout",
     "output_type": "stream",
     "text": [
      "Name : Shaheer Akber\n",
      "Father's Name : Muhammad Akber\n",
      "Contact : 03242744870\n",
      "Course : PIAIC AI\n"
     ]
    }
   ],
   "source": [
    "print(\"Name : Shaheer Akber\\nFather's Name : Muhammad Akber\\nContact : 03242744870\\nCourse : PIAIC AI\")"
   ]
  },
  {
   "cell_type": "code",
   "execution_count": 6,
   "metadata": {},
   "outputs": [
    {
     "ename": "SyntaxError",
     "evalue": "EOL while scanning string literal (<ipython-input-6-a04e94bff071>, line 1)",
     "output_type": "error",
     "traceback": [
      "\u001b[1;36m  File \u001b[1;32m\"<ipython-input-6-a04e94bff071>\"\u001b[1;36m, line \u001b[1;32m1\u001b[0m\n\u001b[1;33m    print(\"Name : Shaheer Akber,Father's Name : Muhammad Akber,Contact : 03242744870,Course : PIAIC AI sep=(\\n)\"\"\u001b[0m\n\u001b[1;37m                                                                                                                 ^\u001b[0m\n\u001b[1;31mSyntaxError\u001b[0m\u001b[1;31m:\u001b[0m EOL while scanning string literal\n"
     ]
    }
   ],
   "source": [
    "print(\"Name : Shaheer Akber,Father's Name : Muhammad Akber,Contact : 03242744870,Course : PIAIC AI sep=(\\n)\"\""
   ]
  },
  {
   "cell_type": "code",
   "execution_count": 7,
   "metadata": {},
   "outputs": [
    {
     "name": "stdout",
     "output_type": "stream",
     "text": [
      "Name : Shaheer Akber,Father's Name : Muhammad Akber,Contact : 03242744870,Course : PIAIC AI sep=\n",
      "\n"
     ]
    }
   ],
   "source": [
    "print(\"Name : Shaheer Akber,Father's Name : Muhammad Akber,Contact : 03242744870,Course : PIAIC AI sep=\\n\")"
   ]
  },
  {
   "cell_type": "code",
   "execution_count": 9,
   "metadata": {},
   "outputs": [
    {
     "ename": "SyntaxError",
     "evalue": "invalid syntax (<ipython-input-9-99a7d4f57081>, line 1)",
     "output_type": "error",
     "traceback": [
      "\u001b[1;36m  File \u001b[1;32m\"<ipython-input-9-99a7d4f57081>\"\u001b[1;36m, line \u001b[1;32m1\u001b[0m\n\u001b[1;33m    print(\"Name : Shaheer Akber\" \"Father's Name : Muhammad Akber\", \"Contact : 03242744870\" sep=\\n)\u001b[0m\n\u001b[1;37m                                                                                             ^\u001b[0m\n\u001b[1;31mSyntaxError\u001b[0m\u001b[1;31m:\u001b[0m invalid syntax\n"
     ]
    }
   ],
   "source": [
    "print(\"Name : Shaheer Akber\" \"Father's Name : Muhammad Akber\", \"Contact : 03242744870\" sep=\\n)"
   ]
  },
  {
   "cell_type": "code",
   "execution_count": 10,
   "metadata": {},
   "outputs": [
    {
     "ename": "SyntaxError",
     "evalue": "invalid syntax (<ipython-input-10-6cf6435e9983>, line 1)",
     "output_type": "error",
     "traceback": [
      "\u001b[1;36m  File \u001b[1;32m\"<ipython-input-10-6cf6435e9983>\"\u001b[1;36m, line \u001b[1;32m1\u001b[0m\n\u001b[1;33m    print(\"Name : Shaheer Akber\", \"Father's Name : Muhammad Akber\", \"Contact : 03242744870\" sep=(\\n))\u001b[0m\n\u001b[1;37m                                                                                              ^\u001b[0m\n\u001b[1;31mSyntaxError\u001b[0m\u001b[1;31m:\u001b[0m invalid syntax\n"
     ]
    }
   ],
   "source": [
    "print(\"Name : Shaheer Akber\", \"Father's Name : Muhammad Akber\", \"Contact : 03242744870\" sep=(\\n))"
   ]
  },
  {
   "cell_type": "code",
   "execution_count": 11,
   "metadata": {},
   "outputs": [
    {
     "ename": "SyntaxError",
     "evalue": "invalid syntax (<ipython-input-11-27dde3a25c6c>, line 1)",
     "output_type": "error",
     "traceback": [
      "\u001b[1;36m  File \u001b[1;32m\"<ipython-input-11-27dde3a25c6c>\"\u001b[1;36m, line \u001b[1;32m1\u001b[0m\n\u001b[1;33m    print(\"Name : Shaheer Akber\" \"Father's Name : Muhammad Akber\", \"Contact : 03242744870\" sep=\"\"\\n\")\u001b[0m\n\u001b[1;37m                                                                                             ^\u001b[0m\n\u001b[1;31mSyntaxError\u001b[0m\u001b[1;31m:\u001b[0m invalid syntax\n"
     ]
    }
   ],
   "source": [
    "print(\"Name : Shaheer Akber\" \"Father's Name : Muhammad Akber\", \"Contact : 03242744870\" sep=\"\"\\n\")"
   ]
  },
  {
   "cell_type": "code",
   "execution_count": 12,
   "metadata": {},
   "outputs": [
    {
     "name": "stdout",
     "output_type": "stream",
     "text": [
      "Name : Shaheer AkberFather's Name : Muhammad Akber\n",
      "Contact : 03242744870\n"
     ]
    }
   ],
   "source": [
    "print(\"Name : Shaheer Akber\" \"Father's Name : Muhammad Akber\", \"Contact : 03242744870\", sep=\"\\n\")"
   ]
  }
 ],
 "metadata": {
  "kernelspec": {
   "display_name": "Python 3",
   "language": "python",
   "name": "python3"
  },
  "language_info": {
   "codemirror_mode": {
    "name": "ipython",
    "version": 3
   },
   "file_extension": ".py",
   "mimetype": "text/x-python",
   "name": "python",
   "nbconvert_exporter": "python",
   "pygments_lexer": "ipython3",
   "version": "3.7.3"
  }
 },
 "nbformat": 4,
 "nbformat_minor": 2
}
